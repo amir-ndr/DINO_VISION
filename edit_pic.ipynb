{
 "cells": [
  {
   "cell_type": "code",
   "execution_count": 2,
   "id": "1b76854a-2b18-47c7-bebb-d1bb0ed52b96",
   "metadata": {},
   "outputs": [],
   "source": [
    "import cv2"
   ]
  },
  {
   "cell_type": "code",
   "execution_count": 3,
   "id": "2dc84664-eca4-48e8-b45b-d4bec4fdb75f",
   "metadata": {},
   "outputs": [
    {
     "data": {
      "text/plain": [
       "(600, 1200, 3)"
      ]
     },
     "execution_count": 3,
     "metadata": {},
     "output_type": "execute_result"
    }
   ],
   "source": [
    "bg = cv2.imread('background.png')\n",
    "bg.shape"
   ]
  },
  {
   "cell_type": "code",
   "execution_count": 4,
   "id": "deae8239-b112-420f-8c1b-6c940a15b111",
   "metadata": {},
   "outputs": [],
   "source": [
    "bg = cv2.resize(bg, (800, 400))"
   ]
  },
  {
   "cell_type": "code",
   "execution_count": 5,
   "id": "8faa9e3f-6c95-42da-936e-ee05d4cf11a4",
   "metadata": {},
   "outputs": [
    {
     "data": {
      "text/plain": [
       "(400, 800, 3)"
      ]
     },
     "execution_count": 5,
     "metadata": {},
     "output_type": "execute_result"
    }
   ],
   "source": [
    "bg.shape"
   ]
  },
  {
   "cell_type": "code",
   "execution_count": 6,
   "id": "de62be4c-5c9b-475e-bf46-5d13f68fdd91",
   "metadata": {},
   "outputs": [
    {
     "data": {
      "text/plain": [
       "(540, 960, 3)"
      ]
     },
     "execution_count": 6,
     "metadata": {},
     "output_type": "execute_result"
    }
   ],
   "source": [
    "d = cv2.imread('dinosaur.png')\n",
    "d.shape"
   ]
  },
  {
   "cell_type": "code",
   "execution_count": 8,
   "id": "042387ca-636d-4f96-8ea9-687dce36c0ee",
   "metadata": {},
   "outputs": [
    {
     "data": {
      "text/plain": [
       "(75, 75, 3)"
      ]
     },
     "execution_count": 8,
     "metadata": {},
     "output_type": "execute_result"
    }
   ],
   "source": [
    "d = cv2.resize(d, (75, 75))\n",
    "d.shape"
   ]
  },
  {
   "cell_type": "code",
   "execution_count": 7,
   "id": "65f45093-2625-4304-9c46-7e86733303bf",
   "metadata": {},
   "outputs": [
    {
     "data": {
      "text/plain": [
       "(160, 160, 3)"
      ]
     },
     "execution_count": 7,
     "metadata": {},
     "output_type": "execute_result"
    }
   ],
   "source": [
    "c = cv2.imread('cactus.png')\n",
    "c.shape"
   ]
  },
  {
   "cell_type": "code",
   "execution_count": 9,
   "id": "602b282e-db3e-4ae4-bb05-b34ebfd4dd27",
   "metadata": {},
   "outputs": [
    {
     "data": {
      "text/plain": [
       "(75, 75, 3)"
      ]
     },
     "execution_count": 9,
     "metadata": {},
     "output_type": "execute_result"
    }
   ],
   "source": [
    "c = cv2.resize(c, (75, 75))\n",
    "c.shape"
   ]
  },
  {
   "cell_type": "code",
   "execution_count": 11,
   "id": "82a8f939-d95a-401e-8028-4cfbc8435a28",
   "metadata": {},
   "outputs": [],
   "source": [
    "cv2.imshow('image', c)\n",
    "cv2.waitKey(0)\n",
    "cv2.destroyAllWindows()"
   ]
  },
  {
   "cell_type": "code",
   "execution_count": 12,
   "id": "1497982a-24fc-4f3e-aa32-9176f24792f7",
   "metadata": {},
   "outputs": [
    {
     "data": {
      "text/plain": [
       "True"
      ]
     },
     "execution_count": 12,
     "metadata": {},
     "output_type": "execute_result"
    }
   ],
   "source": [
    "cv2.imwrite('d1.png', d)\n",
    "cv2.imwrite('c1.png', c)\n",
    "cv2.imwrite('bg1.png', bg)"
   ]
  },
  {
   "cell_type": "code",
   "execution_count": null,
   "id": "a91ea1ce-2bbc-4818-9665-2b2aa1413b3b",
   "metadata": {},
   "outputs": [],
   "source": []
  }
 ],
 "metadata": {
  "kernelspec": {
   "display_name": "Python 3 (ipykernel)",
   "language": "python",
   "name": "python3"
  },
  "language_info": {
   "codemirror_mode": {
    "name": "ipython",
    "version": 3
   },
   "file_extension": ".py",
   "mimetype": "text/x-python",
   "name": "python",
   "nbconvert_exporter": "python",
   "pygments_lexer": "ipython3",
   "version": "3.10.2"
  }
 },
 "nbformat": 4,
 "nbformat_minor": 5
}
